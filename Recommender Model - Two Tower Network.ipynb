{
 "cells": [
  {
   "cell_type": "code",
   "execution_count": 98,
   "id": "3a8c31e6",
   "metadata": {},
   "outputs": [],
   "source": [
    "import pandas as pd\n",
    "import numpy as np\n",
    "from sklearn.model_selection import train_test_split\n",
    "from sklearn.preprocessing import LabelEncoder"
   ]
  },
  {
   "cell_type": "code",
   "execution_count": 99,
   "id": "0bdb17b4",
   "metadata": {},
   "outputs": [],
   "source": [
    "df=pd.read_csv('ratings.csv')"
   ]
  },
  {
   "cell_type": "code",
   "execution_count": 109,
   "id": "3e24b0c4",
   "metadata": {},
   "outputs": [
    {
     "name": "stdout",
     "output_type": "stream",
     "text": [
      "<class 'pandas.core.frame.DataFrame'>\n",
      "RangeIndex: 1028751 entries, 0 to 1028750\n",
      "Data columns (total 5 columns):\n",
      " #   Column            Non-Null Count    Dtype  \n",
      "---  ------            --------------    -----  \n",
      " 0   user_id           1028751 non-null  object \n",
      " 1   movie_id          1028751 non-null  int64  \n",
      " 2   rating            1028751 non-null  float64\n",
      " 3   user_id_encoded   1028751 non-null  int32  \n",
      " 4   movie_id_encoded  1028751 non-null  int64  \n",
      "dtypes: float64(1), int32(1), int64(2), object(1)\n",
      "memory usage: 35.3+ MB\n"
     ]
    }
   ],
   "source": [
    "df.info()"
   ]
  },
  {
   "cell_type": "code",
   "execution_count": 32,
   "id": "8f22aed4",
   "metadata": {},
   "outputs": [
    {
     "data": {
      "text/html": [
       "<div>\n",
       "<style scoped>\n",
       "    .dataframe tbody tr th:only-of-type {\n",
       "        vertical-align: middle;\n",
       "    }\n",
       "\n",
       "    .dataframe tbody tr th {\n",
       "        vertical-align: top;\n",
       "    }\n",
       "\n",
       "    .dataframe thead th {\n",
       "        text-align: right;\n",
       "    }\n",
       "</style>\n",
       "<table border=\"1\" class=\"dataframe\">\n",
       "  <thead>\n",
       "    <tr style=\"text-align: right;\">\n",
       "      <th></th>\n",
       "      <th>user_id</th>\n",
       "      <th>movie_id</th>\n",
       "      <th>rating</th>\n",
       "    </tr>\n",
       "  </thead>\n",
       "  <tbody>\n",
       "    <tr>\n",
       "      <th>32022</th>\n",
       "      <td>0c6e74d0739fb94e2f3c8e5605497bbd</td>\n",
       "      <td>42163</td>\n",
       "      <td>4.0</td>\n",
       "    </tr>\n",
       "    <tr>\n",
       "      <th>518145</th>\n",
       "      <td>6ef5ac1764724bb3f766b13a8313d5a7</td>\n",
       "      <td>50</td>\n",
       "      <td>4.0</td>\n",
       "    </tr>\n",
       "    <tr>\n",
       "      <th>832771</th>\n",
       "      <td>192ff60bd8841ae6727ed1861e60156b</td>\n",
       "      <td>63082</td>\n",
       "      <td>4.5</td>\n",
       "    </tr>\n",
       "    <tr>\n",
       "      <th>603137</th>\n",
       "      <td>be855df6805c42f788b56e5878294a5d</td>\n",
       "      <td>52016</td>\n",
       "      <td>2.0</td>\n",
       "    </tr>\n",
       "    <tr>\n",
       "      <th>6684</th>\n",
       "      <td>77c7d756a093150d4377720abeaeef76</td>\n",
       "      <td>2429</td>\n",
       "      <td>2.0</td>\n",
       "    </tr>\n",
       "    <tr>\n",
       "      <th>784</th>\n",
       "      <td>8e7cebf9a234c064b75016249f2ac65e</td>\n",
       "      <td>1385</td>\n",
       "      <td>2.0</td>\n",
       "    </tr>\n",
       "    <tr>\n",
       "      <th>798809</th>\n",
       "      <td>b71ce593dfe831739fa40cc58af648a6</td>\n",
       "      <td>380</td>\n",
       "      <td>3.5</td>\n",
       "    </tr>\n",
       "    <tr>\n",
       "      <th>654402</th>\n",
       "      <td>dda12d420187937de1e6769080e777c7</td>\n",
       "      <td>95873</td>\n",
       "      <td>4.0</td>\n",
       "    </tr>\n",
       "    <tr>\n",
       "      <th>788825</th>\n",
       "      <td>075d07460cd55b9f0eb977b5b1929759</td>\n",
       "      <td>86347</td>\n",
       "      <td>4.5</td>\n",
       "    </tr>\n",
       "    <tr>\n",
       "      <th>602094</th>\n",
       "      <td>12f0fe1f25f4d80a23695949014e8954</td>\n",
       "      <td>103255</td>\n",
       "      <td>3.5</td>\n",
       "    </tr>\n",
       "  </tbody>\n",
       "</table>\n",
       "</div>"
      ],
      "text/plain": [
       "                                 user_id  movie_id  rating\n",
       "32022   0c6e74d0739fb94e2f3c8e5605497bbd     42163     4.0\n",
       "518145  6ef5ac1764724bb3f766b13a8313d5a7        50     4.0\n",
       "832771  192ff60bd8841ae6727ed1861e60156b     63082     4.5\n",
       "603137  be855df6805c42f788b56e5878294a5d     52016     2.0\n",
       "6684    77c7d756a093150d4377720abeaeef76      2429     2.0\n",
       "784     8e7cebf9a234c064b75016249f2ac65e      1385     2.0\n",
       "798809  b71ce593dfe831739fa40cc58af648a6       380     3.5\n",
       "654402  dda12d420187937de1e6769080e777c7     95873     4.0\n",
       "788825  075d07460cd55b9f0eb977b5b1929759     86347     4.5\n",
       "602094  12f0fe1f25f4d80a23695949014e8954    103255     3.5"
      ]
     },
     "execution_count": 32,
     "metadata": {},
     "output_type": "execute_result"
    }
   ],
   "source": [
    "df.sample(10)"
   ]
  },
  {
   "cell_type": "code",
   "execution_count": 100,
   "id": "6662ad46",
   "metadata": {},
   "outputs": [],
   "source": [
    "df=df.rename(columns={\n",
    "    'useri':'user_id',\n",
    "    ' movie_id':'movie_id',\n",
    "    ' rating':'rating',\n",
    "\n",
    "    \n",
    "})\n",
    "\n",
    "df.drop(' tstamp ',axis=1,inplace=True)"
   ]
  },
  {
   "cell_type": "code",
   "execution_count": null,
   "id": "24441997",
   "metadata": {},
   "outputs": [],
   "source": []
  },
  {
   "cell_type": "markdown",
   "id": "6c8daa78",
   "metadata": {},
   "source": [
    "## Recommendation Algorithms\n",
    "\n",
    "- Collaborative Filtering: Matrix factorization, KNN, ALS.\n",
    "- Content-Based Filtering: TF-IDF, cosine similarity, Bayesian classifiers.\n",
    "- Hybrid Approaches: Hybrid MF, Factorization Machines, RBM.\n",
    "- Deep Learning-Based: Neural CF, Autoencoders, CNNs, RNNs, Two Tower Network\n",
    "- Graph-Based: GNNs, Personalized PageRank."
   ]
  },
  {
   "cell_type": "markdown",
   "id": "86b1fdf2",
   "metadata": {},
   "source": [
    "## Two Tower Network using Tensorflow/Keras"
   ]
  },
  {
   "cell_type": "markdown",
   "id": "6dc80394",
   "metadata": {},
   "source": [
    "## Data Preprocessing"
   ]
  },
  {
   "cell_type": "code",
   "execution_count": 117,
   "id": "0ab1cfdf",
   "metadata": {},
   "outputs": [],
   "source": [
    "\n",
    "user_encoder = LabelEncoder()\n",
    "df['user_id_encoded'] = user_encoder.fit_transform(df['user_id'])\n",
    "\n",
    "movie_encoder = LabelEncoder()\n",
    "df['movie_id_encoded'] = movie_encoder.fit_transform(df['movie_id'])"
   ]
  },
  {
   "cell_type": "code",
   "execution_count": 118,
   "id": "9d5c9eef",
   "metadata": {},
   "outputs": [
    {
     "data": {
      "text/html": [
       "<div>\n",
       "<style scoped>\n",
       "    .dataframe tbody tr th:only-of-type {\n",
       "        vertical-align: middle;\n",
       "    }\n",
       "\n",
       "    .dataframe tbody tr th {\n",
       "        vertical-align: top;\n",
       "    }\n",
       "\n",
       "    .dataframe thead th {\n",
       "        text-align: right;\n",
       "    }\n",
       "</style>\n",
       "<table border=\"1\" class=\"dataframe\">\n",
       "  <thead>\n",
       "    <tr style=\"text-align: right;\">\n",
       "      <th></th>\n",
       "      <th>user_id</th>\n",
       "      <th>movie_id</th>\n",
       "      <th>rating</th>\n",
       "      <th>user_id_encoded</th>\n",
       "      <th>movie_id_encoded</th>\n",
       "    </tr>\n",
       "  </thead>\n",
       "  <tbody>\n",
       "    <tr>\n",
       "      <th>0</th>\n",
       "      <td>8e7cebf9a234c064b75016249f2ac65e</td>\n",
       "      <td>1</td>\n",
       "      <td>5.0</td>\n",
       "      <td>1006</td>\n",
       "      <td>0</td>\n",
       "    </tr>\n",
       "    <tr>\n",
       "      <th>1</th>\n",
       "      <td>8e7cebf9a234c064b75016249f2ac65e</td>\n",
       "      <td>2</td>\n",
       "      <td>4.0</td>\n",
       "      <td>1006</td>\n",
       "      <td>1</td>\n",
       "    </tr>\n",
       "    <tr>\n",
       "      <th>2</th>\n",
       "      <td>8e7cebf9a234c064b75016249f2ac65e</td>\n",
       "      <td>3</td>\n",
       "      <td>4.0</td>\n",
       "      <td>1006</td>\n",
       "      <td>2</td>\n",
       "    </tr>\n",
       "    <tr>\n",
       "      <th>3</th>\n",
       "      <td>8e7cebf9a234c064b75016249f2ac65e</td>\n",
       "      <td>5</td>\n",
       "      <td>5.0</td>\n",
       "      <td>1006</td>\n",
       "      <td>4</td>\n",
       "    </tr>\n",
       "    <tr>\n",
       "      <th>4</th>\n",
       "      <td>8e7cebf9a234c064b75016249f2ac65e</td>\n",
       "      <td>6</td>\n",
       "      <td>4.0</td>\n",
       "      <td>1006</td>\n",
       "      <td>5</td>\n",
       "    </tr>\n",
       "  </tbody>\n",
       "</table>\n",
       "</div>"
      ],
      "text/plain": [
       "                            user_id  movie_id  rating  user_id_encoded  \\\n",
       "0  8e7cebf9a234c064b75016249f2ac65e         1     5.0             1006   \n",
       "1  8e7cebf9a234c064b75016249f2ac65e         2     4.0             1006   \n",
       "2  8e7cebf9a234c064b75016249f2ac65e         3     4.0             1006   \n",
       "3  8e7cebf9a234c064b75016249f2ac65e         5     5.0             1006   \n",
       "4  8e7cebf9a234c064b75016249f2ac65e         6     4.0             1006   \n",
       "\n",
       "   movie_id_encoded  \n",
       "0                 0  \n",
       "1                 1  \n",
       "2                 2  \n",
       "3                 4  \n",
       "4                 5  "
      ]
     },
     "execution_count": 118,
     "metadata": {},
     "output_type": "execute_result"
    }
   ],
   "source": [
    "df.head()"
   ]
  },
  {
   "cell_type": "code",
   "execution_count": 85,
   "id": "1ccb1ad9",
   "metadata": {},
   "outputs": [
    {
     "data": {
      "text/plain": [
       "Index(['user_id', 'movie_id', 'rating', 'user_id_encoded', 'movie_id_encoded'], dtype='object')"
      ]
     },
     "execution_count": 85,
     "metadata": {},
     "output_type": "execute_result"
    }
   ],
   "source": [
    "df.columns"
   ]
  },
  {
   "cell_type": "code",
   "execution_count": 122,
   "id": "d929073f",
   "metadata": {},
   "outputs": [],
   "source": [
    "# Train-test split\n",
    "train, test = train_test_split(df, test_size=0.2, random_state=42)\n",
    "\n",
    "# Extract features and labels for training\n",
    "train_user_ids = train['user_id_encoded'].values\n",
    "train_movie_ids = train['movie_id_encoded'].values\n",
    "train_ratings = train['rating'].values\n",
    "\n",
    "test_user_ids = test['user_id_encoded'].values\n",
    "test_movie_ids = test['movie_id_encoded'].values\n",
    "test_ratings = test['rating'].values\n"
   ]
  },
  {
   "cell_type": "markdown",
   "id": "b7cd93f3",
   "metadata": {},
   "source": [
    "## Two Tower Model"
   ]
  },
  {
   "cell_type": "code",
   "execution_count": 123,
   "id": "1e4481c7",
   "metadata": {},
   "outputs": [],
   "source": [
    "import tensorflow as tf\n",
    "from tensorflow.keras.layers import Input, Embedding, Flatten, Dot, Dense\n",
    "from tensorflow.keras.models import Model"
   ]
  },
  {
   "cell_type": "code",
   "execution_count": 125,
   "id": "7d8a6c06",
   "metadata": {},
   "outputs": [],
   "source": [
    "\n",
    "# Number of unique users and movies\n",
    "num_users = df['user_id'].nunique()\n",
    "num_movies = df['movie_id'].nunique()\n",
    "embedding_dim = 10  # Number of dimensions for the embedding\n",
    "\n",
    "# User tower\n",
    "# placeholder that expects that each input will be a single value (user ID)\n",
    "user_input = Input(shape=(1,), name='user_input')\n",
    "#convert the user ID into a dense embedding vector of size embedding_dim(50)\n",
    "user_embedding = Embedding(input_dim=num_users, output_dim=embedding_dim, name='user_embedding')(user_input)\n",
    "#remove extra dimension so the embedding becomes a simple 1D vector of size embedding_dim for(50) each user \n",
    "user_embedding = Flatten()(user_embedding)\n",
    "\n",
    "# Movie tower\n",
    "# placeholder that expects that each input will be a single value (movie ID)\n",
    "movie_input = Input(shape=(1,), name='movie_input')\n",
    "#convert the movie ID into a dense embedding vector of size embedding_dim(50)\n",
    "movie_embedding = Embedding(input_dim=num_movies, output_dim=embedding_dim, name='movie_embedding')(movie_input)\n",
    "#remove extra dimension so the embedding becomes a simple 1D vector of size embedding_dim for(50) each movie\n",
    "movie_embedding = Flatten()(movie_embedding)\n",
    "\n",
    "# Dot product of user and movie embeddings to predict rating\n",
    "dot_product = Dot(axes=1)([user_embedding, movie_embedding])\n",
    "\n",
    "# Output layer for predicting rating\n",
    "output = Dense(1, activation='linear')(dot_product)\n",
    "\n",
    "\n"
   ]
  },
  {
   "cell_type": "code",
   "execution_count": null,
   "id": "4ee0a401",
   "metadata": {},
   "outputs": [],
   "source": []
  },
  {
   "cell_type": "code",
   "execution_count": 134,
   "id": "0d3a0744",
   "metadata": {},
   "outputs": [
    {
     "name": "stdout",
     "output_type": "stream",
     "text": [
      "Epoch 1/5\n",
      "\u001b[1m12860/12860\u001b[0m \u001b[32m━━━━━━━━━━━━━━━━━━━━\u001b[0m\u001b[37m\u001b[0m \u001b[1m70s\u001b[0m 5ms/step - loss: 0.5260 - val_loss: 0.6272\n",
      "Epoch 2/5\n",
      "\u001b[1m12860/12860\u001b[0m \u001b[32m━━━━━━━━━━━━━━━━━━━━\u001b[0m\u001b[37m\u001b[0m \u001b[1m71s\u001b[0m 6ms/step - loss: 0.4995 - val_loss: 0.6279\n",
      "Epoch 3/5\n",
      "\u001b[1m12860/12860\u001b[0m \u001b[32m━━━━━━━━━━━━━━━━━━━━\u001b[0m\u001b[37m\u001b[0m \u001b[1m66s\u001b[0m 5ms/step - loss: 0.4802 - val_loss: 0.6290\n",
      "Epoch 4/5\n",
      "\u001b[1m12860/12860\u001b[0m \u001b[32m━━━━━━━━━━━━━━━━━━━━\u001b[0m\u001b[37m\u001b[0m \u001b[1m69s\u001b[0m 5ms/step - loss: 0.4696 - val_loss: 0.6294\n",
      "Epoch 5/5\n",
      "\u001b[1m12860/12860\u001b[0m \u001b[32m━━━━━━━━━━━━━━━━━━━━\u001b[0m\u001b[37m\u001b[0m \u001b[1m80s\u001b[0m 6ms/step - loss: 0.4630 - val_loss: 0.6305\n"
     ]
    }
   ],
   "source": [
    "from tensorflow.keras.callbacks import EarlyStopping\n",
    "\n",
    "early_stopping = EarlyStopping(monitor='val_loss', patience=3, restore_best_weights=True)\n",
    "# Create the model\n",
    "model = Model(inputs=[user_input, movie_input], outputs=output)\n",
    "\n",
    "# Compile the model\n",
    "model.compile(optimizer='adam', loss='mse')\n",
    "\n",
    "# Train the model\n",
    "history = model.fit([train_user_ids, train_movie_ids], train_ratings, \n",
    "                    epochs=5, \n",
    "                    batch_size=64, \n",
    "                    validation_data=([test_user_ids, test_movie_ids], test_ratings))"
   ]
  },
  {
   "cell_type": "code",
   "execution_count": 16,
   "id": "6fb8a6ed",
   "metadata": {
    "scrolled": true
   },
   "outputs": [
    {
     "data": {
      "text/html": [
       "<pre style=\"white-space:pre;overflow-x:auto;line-height:normal;font-family:Menlo,'DejaVu Sans Mono',consolas,'Courier New',monospace\"><span style=\"font-weight: bold\">Model: \"functional\"</span>\n",
       "</pre>\n"
      ],
      "text/plain": [
       "\u001b[1mModel: \"functional\"\u001b[0m\n"
      ]
     },
     "metadata": {},
     "output_type": "display_data"
    },
    {
     "data": {
      "text/html": [
       "<pre style=\"white-space:pre;overflow-x:auto;line-height:normal;font-family:Menlo,'DejaVu Sans Mono',consolas,'Courier New',monospace\">┏━━━━━━━━━━━━━━━━━━━━━━━━━━━━━━━┳━━━━━━━━━━━━━━━━━━━━━━━━━━━┳━━━━━━━━━━━━━━━━━┳━━━━━━━━━━━━━━━━━━━━━━━━━━━━┓\n",
       "┃<span style=\"font-weight: bold\"> Layer (type)                  </span>┃<span style=\"font-weight: bold\"> Output Shape              </span>┃<span style=\"font-weight: bold\">         Param # </span>┃<span style=\"font-weight: bold\"> Connected to               </span>┃\n",
       "┡━━━━━━━━━━━━━━━━━━━━━━━━━━━━━━━╇━━━━━━━━━━━━━━━━━━━━━━━━━━━╇━━━━━━━━━━━━━━━━━╇━━━━━━━━━━━━━━━━━━━━━━━━━━━━┩\n",
       "│ user_input (<span style=\"color: #0087ff; text-decoration-color: #0087ff\">InputLayer</span>)       │ (<span style=\"color: #00d7ff; text-decoration-color: #00d7ff\">None</span>, <span style=\"color: #00af00; text-decoration-color: #00af00\">1</span>)                 │               <span style=\"color: #00af00; text-decoration-color: #00af00\">0</span> │ -                          │\n",
       "├───────────────────────────────┼───────────────────────────┼─────────────────┼────────────────────────────┤\n",
       "│ movie_input (<span style=\"color: #0087ff; text-decoration-color: #0087ff\">InputLayer</span>)      │ (<span style=\"color: #00d7ff; text-decoration-color: #00d7ff\">None</span>, <span style=\"color: #00af00; text-decoration-color: #00af00\">1</span>)                 │               <span style=\"color: #00af00; text-decoration-color: #00af00\">0</span> │ -                          │\n",
       "├───────────────────────────────┼───────────────────────────┼─────────────────┼────────────────────────────┤\n",
       "│ user_embedding (<span style=\"color: #0087ff; text-decoration-color: #0087ff\">Embedding</span>)    │ (<span style=\"color: #00d7ff; text-decoration-color: #00d7ff\">None</span>, <span style=\"color: #00af00; text-decoration-color: #00af00\">1</span>, <span style=\"color: #00af00; text-decoration-color: #00af00\">50</span>)             │          <span style=\"color: #00af00; text-decoration-color: #00af00\">91,000</span> │ user_input[<span style=\"color: #00af00; text-decoration-color: #00af00\">0</span>][<span style=\"color: #00af00; text-decoration-color: #00af00\">0</span>]           │\n",
       "├───────────────────────────────┼───────────────────────────┼─────────────────┼────────────────────────────┤\n",
       "│ movie_embedding (<span style=\"color: #0087ff; text-decoration-color: #0087ff\">Embedding</span>)   │ (<span style=\"color: #00d7ff; text-decoration-color: #00d7ff\">None</span>, <span style=\"color: #00af00; text-decoration-color: #00af00\">1</span>, <span style=\"color: #00af00; text-decoration-color: #00af00\">50</span>)             │       <span style=\"color: #00af00; text-decoration-color: #00af00\">1,759,800</span> │ movie_input[<span style=\"color: #00af00; text-decoration-color: #00af00\">0</span>][<span style=\"color: #00af00; text-decoration-color: #00af00\">0</span>]          │\n",
       "├───────────────────────────────┼───────────────────────────┼─────────────────┼────────────────────────────┤\n",
       "│ flatten_2 (<span style=\"color: #0087ff; text-decoration-color: #0087ff\">Flatten</span>)           │ (<span style=\"color: #00d7ff; text-decoration-color: #00d7ff\">None</span>, <span style=\"color: #00af00; text-decoration-color: #00af00\">50</span>)                │               <span style=\"color: #00af00; text-decoration-color: #00af00\">0</span> │ user_embedding[<span style=\"color: #00af00; text-decoration-color: #00af00\">0</span>][<span style=\"color: #00af00; text-decoration-color: #00af00\">0</span>]       │\n",
       "├───────────────────────────────┼───────────────────────────┼─────────────────┼────────────────────────────┤\n",
       "│ flatten_3 (<span style=\"color: #0087ff; text-decoration-color: #0087ff\">Flatten</span>)           │ (<span style=\"color: #00d7ff; text-decoration-color: #00d7ff\">None</span>, <span style=\"color: #00af00; text-decoration-color: #00af00\">50</span>)                │               <span style=\"color: #00af00; text-decoration-color: #00af00\">0</span> │ movie_embedding[<span style=\"color: #00af00; text-decoration-color: #00af00\">0</span>][<span style=\"color: #00af00; text-decoration-color: #00af00\">0</span>]      │\n",
       "├───────────────────────────────┼───────────────────────────┼─────────────────┼────────────────────────────┤\n",
       "│ dot (<span style=\"color: #0087ff; text-decoration-color: #0087ff\">Dot</span>)                     │ (<span style=\"color: #00d7ff; text-decoration-color: #00d7ff\">None</span>, <span style=\"color: #00af00; text-decoration-color: #00af00\">1</span>)                 │               <span style=\"color: #00af00; text-decoration-color: #00af00\">0</span> │ flatten_2[<span style=\"color: #00af00; text-decoration-color: #00af00\">0</span>][<span style=\"color: #00af00; text-decoration-color: #00af00\">0</span>],           │\n",
       "│                               │                           │                 │ flatten_3[<span style=\"color: #00af00; text-decoration-color: #00af00\">0</span>][<span style=\"color: #00af00; text-decoration-color: #00af00\">0</span>]            │\n",
       "├───────────────────────────────┼───────────────────────────┼─────────────────┼────────────────────────────┤\n",
       "│ dense (<span style=\"color: #0087ff; text-decoration-color: #0087ff\">Dense</span>)                 │ (<span style=\"color: #00d7ff; text-decoration-color: #00d7ff\">None</span>, <span style=\"color: #00af00; text-decoration-color: #00af00\">1</span>)                 │               <span style=\"color: #00af00; text-decoration-color: #00af00\">2</span> │ dot[<span style=\"color: #00af00; text-decoration-color: #00af00\">0</span>][<span style=\"color: #00af00; text-decoration-color: #00af00\">0</span>]                  │\n",
       "└───────────────────────────────┴───────────────────────────┴─────────────────┴────────────────────────────┘\n",
       "</pre>\n"
      ],
      "text/plain": [
       "┏━━━━━━━━━━━━━━━━━━━━━━━━━━━━━━━┳━━━━━━━━━━━━━━━━━━━━━━━━━━━┳━━━━━━━━━━━━━━━━━┳━━━━━━━━━━━━━━━━━━━━━━━━━━━━┓\n",
       "┃\u001b[1m \u001b[0m\u001b[1mLayer (type)                 \u001b[0m\u001b[1m \u001b[0m┃\u001b[1m \u001b[0m\u001b[1mOutput Shape             \u001b[0m\u001b[1m \u001b[0m┃\u001b[1m \u001b[0m\u001b[1m        Param #\u001b[0m\u001b[1m \u001b[0m┃\u001b[1m \u001b[0m\u001b[1mConnected to              \u001b[0m\u001b[1m \u001b[0m┃\n",
       "┡━━━━━━━━━━━━━━━━━━━━━━━━━━━━━━━╇━━━━━━━━━━━━━━━━━━━━━━━━━━━╇━━━━━━━━━━━━━━━━━╇━━━━━━━━━━━━━━━━━━━━━━━━━━━━┩\n",
       "│ user_input (\u001b[38;5;33mInputLayer\u001b[0m)       │ (\u001b[38;5;45mNone\u001b[0m, \u001b[38;5;34m1\u001b[0m)                 │               \u001b[38;5;34m0\u001b[0m │ -                          │\n",
       "├───────────────────────────────┼───────────────────────────┼─────────────────┼────────────────────────────┤\n",
       "│ movie_input (\u001b[38;5;33mInputLayer\u001b[0m)      │ (\u001b[38;5;45mNone\u001b[0m, \u001b[38;5;34m1\u001b[0m)                 │               \u001b[38;5;34m0\u001b[0m │ -                          │\n",
       "├───────────────────────────────┼───────────────────────────┼─────────────────┼────────────────────────────┤\n",
       "│ user_embedding (\u001b[38;5;33mEmbedding\u001b[0m)    │ (\u001b[38;5;45mNone\u001b[0m, \u001b[38;5;34m1\u001b[0m, \u001b[38;5;34m50\u001b[0m)             │          \u001b[38;5;34m91,000\u001b[0m │ user_input[\u001b[38;5;34m0\u001b[0m][\u001b[38;5;34m0\u001b[0m]           │\n",
       "├───────────────────────────────┼───────────────────────────┼─────────────────┼────────────────────────────┤\n",
       "│ movie_embedding (\u001b[38;5;33mEmbedding\u001b[0m)   │ (\u001b[38;5;45mNone\u001b[0m, \u001b[38;5;34m1\u001b[0m, \u001b[38;5;34m50\u001b[0m)             │       \u001b[38;5;34m1,759,800\u001b[0m │ movie_input[\u001b[38;5;34m0\u001b[0m][\u001b[38;5;34m0\u001b[0m]          │\n",
       "├───────────────────────────────┼───────────────────────────┼─────────────────┼────────────────────────────┤\n",
       "│ flatten_2 (\u001b[38;5;33mFlatten\u001b[0m)           │ (\u001b[38;5;45mNone\u001b[0m, \u001b[38;5;34m50\u001b[0m)                │               \u001b[38;5;34m0\u001b[0m │ user_embedding[\u001b[38;5;34m0\u001b[0m][\u001b[38;5;34m0\u001b[0m]       │\n",
       "├───────────────────────────────┼───────────────────────────┼─────────────────┼────────────────────────────┤\n",
       "│ flatten_3 (\u001b[38;5;33mFlatten\u001b[0m)           │ (\u001b[38;5;45mNone\u001b[0m, \u001b[38;5;34m50\u001b[0m)                │               \u001b[38;5;34m0\u001b[0m │ movie_embedding[\u001b[38;5;34m0\u001b[0m][\u001b[38;5;34m0\u001b[0m]      │\n",
       "├───────────────────────────────┼───────────────────────────┼─────────────────┼────────────────────────────┤\n",
       "│ dot (\u001b[38;5;33mDot\u001b[0m)                     │ (\u001b[38;5;45mNone\u001b[0m, \u001b[38;5;34m1\u001b[0m)                 │               \u001b[38;5;34m0\u001b[0m │ flatten_2[\u001b[38;5;34m0\u001b[0m][\u001b[38;5;34m0\u001b[0m],           │\n",
       "│                               │                           │                 │ flatten_3[\u001b[38;5;34m0\u001b[0m][\u001b[38;5;34m0\u001b[0m]            │\n",
       "├───────────────────────────────┼───────────────────────────┼─────────────────┼────────────────────────────┤\n",
       "│ dense (\u001b[38;5;33mDense\u001b[0m)                 │ (\u001b[38;5;45mNone\u001b[0m, \u001b[38;5;34m1\u001b[0m)                 │               \u001b[38;5;34m2\u001b[0m │ dot[\u001b[38;5;34m0\u001b[0m][\u001b[38;5;34m0\u001b[0m]                  │\n",
       "└───────────────────────────────┴───────────────────────────┴─────────────────┴────────────────────────────┘\n"
      ]
     },
     "metadata": {},
     "output_type": "display_data"
    },
    {
     "data": {
      "text/html": [
       "<pre style=\"white-space:pre;overflow-x:auto;line-height:normal;font-family:Menlo,'DejaVu Sans Mono',consolas,'Courier New',monospace\"><span style=\"font-weight: bold\"> Total params: </span><span style=\"color: #00af00; text-decoration-color: #00af00\">5,552,408</span> (21.18 MB)\n",
       "</pre>\n"
      ],
      "text/plain": [
       "\u001b[1m Total params: \u001b[0m\u001b[38;5;34m5,552,408\u001b[0m (21.18 MB)\n"
      ]
     },
     "metadata": {},
     "output_type": "display_data"
    },
    {
     "data": {
      "text/html": [
       "<pre style=\"white-space:pre;overflow-x:auto;line-height:normal;font-family:Menlo,'DejaVu Sans Mono',consolas,'Courier New',monospace\"><span style=\"font-weight: bold\"> Trainable params: </span><span style=\"color: #00af00; text-decoration-color: #00af00\">1,850,802</span> (7.06 MB)\n",
       "</pre>\n"
      ],
      "text/plain": [
       "\u001b[1m Trainable params: \u001b[0m\u001b[38;5;34m1,850,802\u001b[0m (7.06 MB)\n"
      ]
     },
     "metadata": {},
     "output_type": "display_data"
    },
    {
     "data": {
      "text/html": [
       "<pre style=\"white-space:pre;overflow-x:auto;line-height:normal;font-family:Menlo,'DejaVu Sans Mono',consolas,'Courier New',monospace\"><span style=\"font-weight: bold\"> Non-trainable params: </span><span style=\"color: #00af00; text-decoration-color: #00af00\">0</span> (0.00 B)\n",
       "</pre>\n"
      ],
      "text/plain": [
       "\u001b[1m Non-trainable params: \u001b[0m\u001b[38;5;34m0\u001b[0m (0.00 B)\n"
      ]
     },
     "metadata": {},
     "output_type": "display_data"
    },
    {
     "data": {
      "text/html": [
       "<pre style=\"white-space:pre;overflow-x:auto;line-height:normal;font-family:Menlo,'DejaVu Sans Mono',consolas,'Courier New',monospace\"><span style=\"font-weight: bold\"> Optimizer params: </span><span style=\"color: #00af00; text-decoration-color: #00af00\">3,701,606</span> (14.12 MB)\n",
       "</pre>\n"
      ],
      "text/plain": [
       "\u001b[1m Optimizer params: \u001b[0m\u001b[38;5;34m3,701,606\u001b[0m (14.12 MB)\n"
      ]
     },
     "metadata": {},
     "output_type": "display_data"
    }
   ],
   "source": [
    "model.summary()"
   ]
  },
  {
   "cell_type": "markdown",
   "id": "557b77b9",
   "metadata": {},
   "source": [
    "## Model Evaluation"
   ]
  },
  {
   "cell_type": "code",
   "execution_count": 135,
   "id": "414c56a1",
   "metadata": {},
   "outputs": [
    {
     "name": "stdout",
     "output_type": "stream",
     "text": [
      "\u001b[1m6430/6430\u001b[0m \u001b[32m━━━━━━━━━━━━━━━━━━━━\u001b[0m\u001b[37m\u001b[0m \u001b[1m15s\u001b[0m 2ms/step - loss: 0.6279\n",
      "Test loss (MSE): 0.6305448412895203\n"
     ]
    }
   ],
   "source": [
    "# Evaluate on the test set\n",
    "test_loss = model.evaluate([test_user_ids, test_movie_ids], test_ratings)\n",
    "print(f\"Test loss (MSE): {test_loss}\")"
   ]
  },
  {
   "cell_type": "code",
   "execution_count": 136,
   "id": "6de9cc33",
   "metadata": {},
   "outputs": [
    {
     "name": "stdout",
     "output_type": "stream",
     "text": [
      "\u001b[1m6430/6430\u001b[0m \u001b[32m━━━━━━━━━━━━━━━━━━━━\u001b[0m\u001b[37m\u001b[0m \u001b[1m19s\u001b[0m 3ms/step\n"
     ]
    }
   ],
   "source": [
    "# Make predictions on the full test set\n",
    "test_predictions = model.predict([test_user_ids, test_movie_ids])\n",
    "\n",
    "# Add the original user IDs, movie IDs, actual ratings, and predicted ratings to a DataFrame\n",
    "test_results = pd.DataFrame({\n",
    "    'original_user_id': user_encoder.inverse_transform(test_user_ids),  # Convert encoded user IDs back to original\n",
    "    'original_movie_id': movie_encoder.inverse_transform(test_movie_ids),  # Convert encoded movie IDs back to original\n",
    "    'actual_rating': test_ratings,\n",
    "    'predicted_rating': test_predictions.flatten()  # Flatten to a 1D array\n",
    "})\n",
    "\n"
   ]
  },
  {
   "cell_type": "code",
   "execution_count": 140,
   "id": "f982a89d",
   "metadata": {},
   "outputs": [
    {
     "data": {
      "text/html": [
       "<div>\n",
       "<style scoped>\n",
       "    .dataframe tbody tr th:only-of-type {\n",
       "        vertical-align: middle;\n",
       "    }\n",
       "\n",
       "    .dataframe tbody tr th {\n",
       "        vertical-align: top;\n",
       "    }\n",
       "\n",
       "    .dataframe thead th {\n",
       "        text-align: right;\n",
       "    }\n",
       "</style>\n",
       "<table border=\"1\" class=\"dataframe\">\n",
       "  <thead>\n",
       "    <tr style=\"text-align: right;\">\n",
       "      <th></th>\n",
       "      <th>original_user_id</th>\n",
       "      <th>original_movie_id</th>\n",
       "      <th>actual_rating</th>\n",
       "      <th>predicted_rating</th>\n",
       "    </tr>\n",
       "  </thead>\n",
       "  <tbody>\n",
       "    <tr>\n",
       "      <th>126964</th>\n",
       "      <td>4404f0dcbaa48eb84d53abf85a6534d7</td>\n",
       "      <td>7203</td>\n",
       "      <td>4.0</td>\n",
       "      <td>3.018996</td>\n",
       "    </tr>\n",
       "    <tr>\n",
       "      <th>28106</th>\n",
       "      <td>dd9a68f52fd23e04592bdf08af807371</td>\n",
       "      <td>68347</td>\n",
       "      <td>4.5</td>\n",
       "      <td>4.263574</td>\n",
       "    </tr>\n",
       "    <tr>\n",
       "      <th>164168</th>\n",
       "      <td>7500db258d55789ef86cbb29ffcb2016</td>\n",
       "      <td>267</td>\n",
       "      <td>0.5</td>\n",
       "      <td>1.738303</td>\n",
       "    </tr>\n",
       "    <tr>\n",
       "      <th>111790</th>\n",
       "      <td>f6ce380bdf17ac1411ed7b13bee948e3</td>\n",
       "      <td>90403</td>\n",
       "      <td>3.0</td>\n",
       "      <td>2.404511</td>\n",
       "    </tr>\n",
       "    <tr>\n",
       "      <th>161510</th>\n",
       "      <td>7cfe973cfd3353ecacc3ec1e53a1c5ea</td>\n",
       "      <td>2827</td>\n",
       "      <td>1.5</td>\n",
       "      <td>2.737557</td>\n",
       "    </tr>\n",
       "    <tr>\n",
       "      <th>205350</th>\n",
       "      <td>2e5e394fabcf87b202187c5b8c404cd5</td>\n",
       "      <td>68157</td>\n",
       "      <td>4.0</td>\n",
       "      <td>4.314604</td>\n",
       "    </tr>\n",
       "    <tr>\n",
       "      <th>14597</th>\n",
       "      <td>cfdf6bca597d8e26773cbafce04368b0</td>\n",
       "      <td>5945</td>\n",
       "      <td>1.5</td>\n",
       "      <td>0.934399</td>\n",
       "    </tr>\n",
       "    <tr>\n",
       "      <th>180189</th>\n",
       "      <td>8da0624bf90b42c5036563806962fa0f</td>\n",
       "      <td>141456</td>\n",
       "      <td>4.0</td>\n",
       "      <td>3.125163</td>\n",
       "    </tr>\n",
       "    <tr>\n",
       "      <th>194976</th>\n",
       "      <td>2c88d52366195507be47f7fcf4dca4d1</td>\n",
       "      <td>114935</td>\n",
       "      <td>5.0</td>\n",
       "      <td>4.312302</td>\n",
       "    </tr>\n",
       "    <tr>\n",
       "      <th>42595</th>\n",
       "      <td>e46267204fe0da35710877834f57a3b4</td>\n",
       "      <td>45722</td>\n",
       "      <td>2.0</td>\n",
       "      <td>2.873377</td>\n",
       "    </tr>\n",
       "  </tbody>\n",
       "</table>\n",
       "</div>"
      ],
      "text/plain": [
       "                        original_user_id  original_movie_id  actual_rating  \\\n",
       "126964  4404f0dcbaa48eb84d53abf85a6534d7               7203            4.0   \n",
       "28106   dd9a68f52fd23e04592bdf08af807371              68347            4.5   \n",
       "164168  7500db258d55789ef86cbb29ffcb2016                267            0.5   \n",
       "111790  f6ce380bdf17ac1411ed7b13bee948e3              90403            3.0   \n",
       "161510  7cfe973cfd3353ecacc3ec1e53a1c5ea               2827            1.5   \n",
       "205350  2e5e394fabcf87b202187c5b8c404cd5              68157            4.0   \n",
       "14597   cfdf6bca597d8e26773cbafce04368b0               5945            1.5   \n",
       "180189  8da0624bf90b42c5036563806962fa0f             141456            4.0   \n",
       "194976  2c88d52366195507be47f7fcf4dca4d1             114935            5.0   \n",
       "42595   e46267204fe0da35710877834f57a3b4              45722            2.0   \n",
       "\n",
       "        predicted_rating  \n",
       "126964          3.018996  \n",
       "28106           4.263574  \n",
       "164168          1.738303  \n",
       "111790          2.404511  \n",
       "161510          2.737557  \n",
       "205350          4.314604  \n",
       "14597           0.934399  \n",
       "180189          3.125163  \n",
       "194976          4.312302  \n",
       "42595           2.873377  "
      ]
     },
     "execution_count": 140,
     "metadata": {},
     "output_type": "execute_result"
    }
   ],
   "source": [
    "test_results.sample(10)"
   ]
  },
  {
   "cell_type": "code",
   "execution_count": 141,
   "id": "24d4ad40",
   "metadata": {},
   "outputs": [
    {
     "name": "stdout",
     "output_type": "stream",
     "text": [
      "Predictions for user 8e7cebf9a234c064b75016249f2ac65e, ordered by closest rating difference:\n"
     ]
    },
    {
     "data": {
      "text/html": [
       "<div>\n",
       "<style scoped>\n",
       "    .dataframe tbody tr th:only-of-type {\n",
       "        vertical-align: middle;\n",
       "    }\n",
       "\n",
       "    .dataframe tbody tr th {\n",
       "        vertical-align: top;\n",
       "    }\n",
       "\n",
       "    .dataframe thead th {\n",
       "        text-align: right;\n",
       "    }\n",
       "</style>\n",
       "<table border=\"1\" class=\"dataframe\">\n",
       "  <thead>\n",
       "    <tr style=\"text-align: right;\">\n",
       "      <th></th>\n",
       "      <th>original_user_id</th>\n",
       "      <th>original_movie_id</th>\n",
       "      <th>actual_rating</th>\n",
       "      <th>predicted_rating</th>\n",
       "      <th>rating_difference</th>\n",
       "    </tr>\n",
       "  </thead>\n",
       "  <tbody>\n",
       "    <tr>\n",
       "      <th>89960</th>\n",
       "      <td>8e7cebf9a234c064b75016249f2ac65e</td>\n",
       "      <td>4014</td>\n",
       "      <td>4.0</td>\n",
       "      <td>4.000362</td>\n",
       "      <td>0.000362</td>\n",
       "    </tr>\n",
       "    <tr>\n",
       "      <th>40795</th>\n",
       "      <td>8e7cebf9a234c064b75016249f2ac65e</td>\n",
       "      <td>47610</td>\n",
       "      <td>3.5</td>\n",
       "      <td>3.502150</td>\n",
       "      <td>0.002150</td>\n",
       "    </tr>\n",
       "    <tr>\n",
       "      <th>199452</th>\n",
       "      <td>8e7cebf9a234c064b75016249f2ac65e</td>\n",
       "      <td>7980</td>\n",
       "      <td>3.5</td>\n",
       "      <td>3.502495</td>\n",
       "      <td>0.002495</td>\n",
       "    </tr>\n",
       "    <tr>\n",
       "      <th>26733</th>\n",
       "      <td>8e7cebf9a234c064b75016249f2ac65e</td>\n",
       "      <td>26689</td>\n",
       "      <td>3.0</td>\n",
       "      <td>3.004020</td>\n",
       "      <td>0.004020</td>\n",
       "    </tr>\n",
       "    <tr>\n",
       "      <th>15931</th>\n",
       "      <td>8e7cebf9a234c064b75016249f2ac65e</td>\n",
       "      <td>3114</td>\n",
       "      <td>5.0</td>\n",
       "      <td>5.004139</td>\n",
       "      <td>0.004139</td>\n",
       "    </tr>\n",
       "    <tr>\n",
       "      <th>...</th>\n",
       "      <td>...</td>\n",
       "      <td>...</td>\n",
       "      <td>...</td>\n",
       "      <td>...</td>\n",
       "      <td>...</td>\n",
       "    </tr>\n",
       "    <tr>\n",
       "      <th>88350</th>\n",
       "      <td>8e7cebf9a234c064b75016249f2ac65e</td>\n",
       "      <td>4574</td>\n",
       "      <td>1.0</td>\n",
       "      <td>3.528172</td>\n",
       "      <td>2.528172</td>\n",
       "    </tr>\n",
       "    <tr>\n",
       "      <th>198013</th>\n",
       "      <td>8e7cebf9a234c064b75016249f2ac65e</td>\n",
       "      <td>192391</td>\n",
       "      <td>4.0</td>\n",
       "      <td>1.339447</td>\n",
       "      <td>2.660553</td>\n",
       "    </tr>\n",
       "    <tr>\n",
       "      <th>155089</th>\n",
       "      <td>8e7cebf9a234c064b75016249f2ac65e</td>\n",
       "      <td>5004</td>\n",
       "      <td>5.0</td>\n",
       "      <td>2.134781</td>\n",
       "      <td>2.865219</td>\n",
       "    </tr>\n",
       "    <tr>\n",
       "      <th>194056</th>\n",
       "      <td>8e7cebf9a234c064b75016249f2ac65e</td>\n",
       "      <td>4308</td>\n",
       "      <td>1.0</td>\n",
       "      <td>4.020574</td>\n",
       "      <td>3.020574</td>\n",
       "    </tr>\n",
       "    <tr>\n",
       "      <th>17539</th>\n",
       "      <td>8e7cebf9a234c064b75016249f2ac65e</td>\n",
       "      <td>7990</td>\n",
       "      <td>1.0</td>\n",
       "      <td>4.245101</td>\n",
       "      <td>3.245101</td>\n",
       "    </tr>\n",
       "  </tbody>\n",
       "</table>\n",
       "<p>1289 rows × 5 columns</p>\n",
       "</div>"
      ],
      "text/plain": [
       "                        original_user_id  original_movie_id  actual_rating  \\\n",
       "89960   8e7cebf9a234c064b75016249f2ac65e               4014            4.0   \n",
       "40795   8e7cebf9a234c064b75016249f2ac65e              47610            3.5   \n",
       "199452  8e7cebf9a234c064b75016249f2ac65e               7980            3.5   \n",
       "26733   8e7cebf9a234c064b75016249f2ac65e              26689            3.0   \n",
       "15931   8e7cebf9a234c064b75016249f2ac65e               3114            5.0   \n",
       "...                                  ...                ...            ...   \n",
       "88350   8e7cebf9a234c064b75016249f2ac65e               4574            1.0   \n",
       "198013  8e7cebf9a234c064b75016249f2ac65e             192391            4.0   \n",
       "155089  8e7cebf9a234c064b75016249f2ac65e               5004            5.0   \n",
       "194056  8e7cebf9a234c064b75016249f2ac65e               4308            1.0   \n",
       "17539   8e7cebf9a234c064b75016249f2ac65e               7990            1.0   \n",
       "\n",
       "        predicted_rating  rating_difference  \n",
       "89960           4.000362           0.000362  \n",
       "40795           3.502150           0.002150  \n",
       "199452          3.502495           0.002495  \n",
       "26733           3.004020           0.004020  \n",
       "15931           5.004139           0.004139  \n",
       "...                  ...                ...  \n",
       "88350           3.528172           2.528172  \n",
       "198013          1.339447           2.660553  \n",
       "155089          2.134781           2.865219  \n",
       "194056          4.020574           3.020574  \n",
       "17539           4.245101           3.245101  \n",
       "\n",
       "[1289 rows x 5 columns]"
      ]
     },
     "execution_count": 141,
     "metadata": {},
     "output_type": "execute_result"
    }
   ],
   "source": [
    "# Calculate the difference between actual and predicted ratings\n",
    "test_results['rating_difference'] = abs(test_results['actual_rating'] - test_results['predicted_rating'])\n",
    "\n",
    "# Filter by a specific user ID, for example:\n",
    "filter_user_id = '8e7cebf9a234c064b75016249f2ac65e'  # Replace with the desired user ID\n",
    "\n",
    "# Filter the DataFrame by the original user ID\n",
    "filtered_results = test_results[test_results['original_user_id'] == filter_user_id]\n",
    "\n",
    "# Sort by the closest rating difference (smallest difference first)\n",
    "filtered_results_sorted = filtered_results.sort_values(by='rating_difference')\n",
    "\n",
    "# Display sorted results\n",
    "print(f\"Predictions for user {filter_user_id}, ordered by closest rating difference:\")\n",
    "filtered_results_sorted"
   ]
  },
  {
   "cell_type": "code",
   "execution_count": null,
   "id": "f28d386c",
   "metadata": {},
   "outputs": [],
   "source": []
  }
 ],
 "metadata": {
  "kernelspec": {
   "display_name": "Python 3 (ipykernel)",
   "language": "python",
   "name": "python3"
  },
  "language_info": {
   "codemirror_mode": {
    "name": "ipython",
    "version": 3
   },
   "file_extension": ".py",
   "mimetype": "text/x-python",
   "name": "python",
   "nbconvert_exporter": "python",
   "pygments_lexer": "ipython3",
   "version": "3.10.5"
  }
 },
 "nbformat": 4,
 "nbformat_minor": 5
}
